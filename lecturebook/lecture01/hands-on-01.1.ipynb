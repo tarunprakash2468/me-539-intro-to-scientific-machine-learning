{
 "cells": [
  {
   "cell_type": "code",
   "execution_count": 1,
   "metadata": {
    "tags": [
     "hide-input"
    ]
   },
   "outputs": [
    {
     "ename": "ModuleNotFoundError",
     "evalue": "No module named 'matplotlib'",
     "output_type": "error",
     "traceback": [
      "\u001b[1;31m---------------------------------------------------------------------------\u001b[0m",
      "\u001b[1;31mModuleNotFoundError\u001b[0m                       Traceback (most recent call last)",
      "Cell \u001b[1;32mIn[1], line 1\u001b[0m\n\u001b[1;32m----> 1\u001b[0m \u001b[39mimport\u001b[39;00m \u001b[39mmatplotlib\u001b[39;00m\u001b[39m.\u001b[39;00m\u001b[39mpyplot\u001b[39;00m \u001b[39mas\u001b[39;00m \u001b[39mplt\u001b[39;00m\n\u001b[0;32m      2\u001b[0m get_ipython()\u001b[39m.\u001b[39mrun_line_magic(\u001b[39m'\u001b[39m\u001b[39mmatplotlib\u001b[39m\u001b[39m'\u001b[39m, \u001b[39m'\u001b[39m\u001b[39minline\u001b[39m\u001b[39m'\u001b[39m)\n\u001b[0;32m      3\u001b[0m \u001b[39mimport\u001b[39;00m \u001b[39mmatplotlib_inline\u001b[39;00m\n",
      "\u001b[1;31mModuleNotFoundError\u001b[0m: No module named 'matplotlib'"
     ]
    }
   ],
   "source": [
    "import matplotlib.pyplot as plt\n",
    "%matplotlib inline\n",
    "import matplotlib_inline\n",
    "matplotlib_inline.backend_inline.set_matplotlib_formats('svg')\n",
    "import seaborn as sns\n",
    "sns.set_context(\"paper\")\n",
    "sns.set_style(\"ticks\");"
   ]
  },
  {
   "attachments": {},
   "cell_type": "markdown",
   "metadata": {},
   "source": [
    "(uncertainty-propagation)=\n",
    "# The Uncertainty Propagation Problem\n",
    "\n",
    "The uncertainty propagation problem is as follows.\n",
    "You have a causal model that relates some input variables to some output variables.\n",
    "You are uncertain about the input variables.\n",
    "You want to predict the output variables and quantify the uncertainty in the predictions.\n",
    "\n",
    "## Example: Driving a trailer on a rough road\n",
    "\n",
    "I have modified the following examples from Purdue's Basic Mechanics II Lecture Book.\n",
    "In the figure, you see a trailer of mass m moving on a rough road with speed $v$.\n",
    "The suspension spring constant is $k$.\n",
    "We are interested in the vibration amplitude $X$.\n",
    "\n",
    "![Trailer](../images/trailer.png)\n",
    "\n",
    "Let us assume the road surface is sinusoidal with amplitude $y_0$ and \"wavelength\" $L$.\n",
    "Doing a [little bit of dynamics](https://www.youtube.com/watch?v=d4OKBqr_aYQ&feature=youtu.be) shows that the amplitude of the suspension oscillation is:\n",
    "\n",
    "$$\n",
    "X = \\left|\\frac{ky_0}{k-m\\omega^2}\\right|,\n",
    "$$\n",
    "\n",
    "where the angular velocity is:\n",
    "\n",
    "$$\n",
    "\\omega = \\frac{2\\pi v}{L}.\n",
    "$$\n",
    "\n",
    "Let's draw the causal graph:"
   ]
  },
  {
   "cell_type": "code",
   "execution_count": null,
   "metadata": {
    "tags": [
     "hide-input"
    ]
   },
   "outputs": [],
   "source": [
    "from graphviz import Digraph\n",
    "g = Digraph('Trailer')\n",
    "g.node('k')\n",
    "g.node('m')\n",
    "g.node('y0', label='<y<sub>0</sub>>')\n",
    "g.node('omega', label='<&omega;>')\n",
    "g.node('v')\n",
    "g.node('L')\n",
    "g.node('X')\n",
    "g.edge('v', 'omega')\n",
    "g.edge('L', 'omega')\n",
    "g.edge('y0', 'X')\n",
    "g.edge('omega', 'X')\n",
    "g.edge('k', 'X')\n",
    "g.edge('m', 'X')\n",
    "#g.render('trailer_g', format='png')\n",
    "g"
   ]
  },
  {
   "attachments": {},
   "cell_type": "markdown",
   "metadata": {},
   "source": [
    "### Questions\n",
    "\n",
    "+ Which of the variables $v$, $L$, $k$, $m$, $y_0$ are aleatory and which epistemic?\n",
    "```{admonition} Answer\n",
    ":class: dropdown\n",
    "There are many correct answers to this question.\n",
    "It depends on the context.\n",
    "For example, if you are driving a specific trailer, you may not know what $k$ and $m$ are.\n",
    "Then, you would consider them epistemic.\n",
    "However, if you consider the process that manufactured the trailer, then $k$ and $m$ could be aleatory.\n",
    "```\n",
    "\n",
    "+ Pick one of the epistemic variables and explain how you would reduce its uncertainty.\n",
    "```{admonition} Answer\n",
    ":class: dropdown\n",
    "If we pick the trailer's mass, we could reduce its uncertainty by weighing it.\n",
    "```\n",
    "\n",
    "+ The variables we have included in the model are the ones we know are important. We may be uncertain about them, but they are \"known unknowns.\" There are other variables that we may not even know are important. These are \"unknown unknowns.\" Think hard and come up with at least one \"unknown unknown.\" By doing so, you are effectively turning it into a known unknown.\n",
    "```{admonition} Answer\n",
    ":class: dropdown\n",
    "The air pressure in the tires is an unknown unknown.\n",
    "```"
   ]
  },
  {
   "attachments": {},
   "cell_type": "markdown",
   "metadata": {},
   "source": [
    "## Solving uncertainty propagation problems\n",
    "\n",
    "As mentioned, we describe both aleatory and epistemic uncertainties using probability theory.\n",
    "So, one of the first steps of predictive modeling is to develop probability statements for all uncertain variables.\n",
    "However, this is also one of the most challenging problems.\n",
    "So, let us assume that someone has already done it for us.\n",
    "The next step is to propagate this uncertainty through the causal model to characterize our uncertainty about a quantity of interest.\n",
    "Let us demonstrate both steps using the trailer example.\n",
    "\n",
    "The simplest way to solve the uncertainty propagation problem is via sampling.\n",
    "The approach is known as the *Monte Carlo* method.\n",
    "We will study the Monte Carlo method extensively.\n",
    "For now, let's look at a simple example.\n",
    "\n",
    "### Example: Driving a trailer on a rough road (continued)\n",
    "\n",
    "To make this more precise, assume that we are the trailer manufacturer.\n",
    "Let's quantify our state of knowledge about this model's parameters using a bit of common sense.\n",
    "\n",
    "| Variable | Type | Values| \n",
    "|:---------|:--------------|:--------|\n",
    "| $k$ | Manufacturing uncertainty | [159,999, 160,001] N/m |\n",
    "| $v$ | Operating condition | [80, 150] km/hour |\n",
    "| $m$ | Loading condition | [100, 200] kg|\n",
    "| $y_0$ | Road condition | [0, 100] mm|\n",
    "| $L$ | Road condition | [1, 2] m |\n",
    "\n",
    "Not being able to come up with more precise information (or any data), we consider any value within these intervals equally likely.\n",
    "\n",
    "Let's write some code to see how this uncertainty affects the angular velocity $\\omega$ and the amplitude $X$.\n",
    "The code does the following:\n",
    "+ It samples 1000 values for each variable.\n",
    "+ It computes the angular velocity $\\omega$ and the amplitude $X$ for each sample.\n",
    "+ It plots the histograms of $\\omega$ and $X$."
   ]
  },
  {
   "cell_type": "code",
   "execution_count": null,
   "metadata": {},
   "outputs": [],
   "source": [
    "# We need to import numpy to use the random number generator\n",
    "import numpy as np\n",
    "\n",
    "# The number of samples we wish to take\n",
    "num_samples = 1000\n",
    "\n",
    "# Two arrays in which to store the samples we take\n",
    "Xs = np.ndarray((num_samples, ))\n",
    "omegas = np.ndarray((num_samples, ))\n",
    "\n",
    "for i in range(num_samples):\n",
    "    # Sample all the parameters from their distributions\n",
    "    k = 160000.0 + np.random.rand()\n",
    "    m = 100.0 + (200.0 - 100.0) * np.random.rand()\n",
    "    y0 = 100 * np.random.rand() * 1e-3\n",
    "    v = (80.0 + (150.0 - 80.0) * np.random.rand()) * 1e3 / 3600.0\n",
    "    L = 1.0 + (2.0 - 1.0) * np.random.rand()\n",
    "    \n",
    "    # Calculate the angular velocity\n",
    "    omega = 2.0 * np.pi * v / L\n",
    "    # Calculate the amplitude\n",
    "    X = np.abs(k * y0 / (k - m * omega ** 2))\n",
    "\n",
    "    # Store the samples\n",
    "    omegas[i] = omega\n",
    "    Xs[i] = X"
   ]
  },
  {
   "attachments": {},
   "cell_type": "markdown",
   "metadata": {},
   "source": [
    "Plot the normalized histogram of the angular velocity:"
   ]
  },
  {
   "cell_type": "code",
   "execution_count": null,
   "metadata": {
    "tags": [
     "hide-input"
    ]
   },
   "outputs": [],
   "source": [
    "fig, ax = plt.subplots()\n",
    "ax.hist(omegas, density=True)\n",
    "ax.set_xlabel(r\"$\\omega$ (1/s)\")\n",
    "ax.set_ylabel(r\"$p(\\omega)$\")\n",
    "sns.despine(trim=True);"
   ]
  },
  {
   "attachments": {},
   "cell_type": "markdown",
   "metadata": {},
   "source": [
    "And here is the histogram of the amplitude:"
   ]
  },
  {
   "cell_type": "code",
   "execution_count": null,
   "metadata": {
    "tags": [
     "hide-input"
    ]
   },
   "outputs": [],
   "source": [
    "fig, ax = plt.subplots()\n",
    "ax.hist(Xs, density=True)\n",
    "ax.set_xlabel(r\"$x$ (1/s)\")\n",
    "ax.set_ylabel(r\"$p(x)$\")\n",
    "sns.despine(trim=True);"
   ]
  },
  {
   "attachments": {},
   "cell_type": "markdown",
   "metadata": {},
   "source": [
    "### Questions\n",
    "+ What does the probability density in the figures above represent? Is the uncertainty aleatory or epistemic?\n",
    "```{admonition} Answer\n",
    ":class: dropdown\n",
    "The probability density represents our state of knowledge about the angular velocity and the amplitude.\n",
    "Whether or not it is aleatory or epistemic depends on the context.\n",
    "```\n",
    "\n",
    "+ Rerun the code above giving different values to ``num_samples``. Can you trust the results when you pick small values? Do the results \"converge\" to something as you increase the number of samples?\n",
    "```{admonition} Answer\n",
    ":class: dropdown\n",
    "For small values of ``num_samples``, the results are not reliable.\n",
    "For large values, the results seem to converge to a specific density.\n",
    "This is a consequence of the [law of large numbers](https://en.wikipedia.org/wiki/Law_of_large_numbers).\n",
    "We will learn about it later in the course.\n",
    "```"
   ]
  }
 ],
 "metadata": {
  "celltoolbar": "Tags",
  "kernelspec": {
   "display_name": "Python 3 (ipykernel)",
   "language": "python",
   "name": "python3"
  },
  "language_info": {
   "codemirror_mode": {
    "name": "ipython",
    "version": 3
   },
   "file_extension": ".py",
   "mimetype": "text/x-python",
   "name": "python",
   "nbconvert_exporter": "python",
   "pygments_lexer": "ipython3",
   "version": "3.9.17"
  }
 },
 "nbformat": 4,
 "nbformat_minor": 4
}
